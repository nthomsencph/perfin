{
 "cells": [
  {
   "cell_type": "code",
   "execution_count": null,
   "metadata": {},
   "outputs": [],
   "source": [
    "import pandas as pd"
   ]
  },
  {
   "cell_type": "code",
   "execution_count": null,
   "metadata": {},
   "outputs": [],
   "source": [
    "# set plotly as the default plotting library\n",
    "pd.options.plotting.backend = \"plotly\""
   ]
  },
  {
   "cell_type": "code",
   "execution_count": null,
   "metadata": {},
   "outputs": [],
   "source": [
    "dataf = (\n",
    "    pd.read_csv(\"db/transactions23.csv\", sep=\";\", encoding=\"windows-1252\")\n",
    "    # cast 'Dato to datetime\n",
    "    .assign(Dato=lambda d: pd.to_datetime(d[\"Dato\"], format=\"%d.%m.%Y\"))\n",
    "    .reset_index(names=\"trans_order\")\n",
    "    .drop(columns=[\"Status\", \"Afstemt\"])\n",
    "    # remove '.' from 'Saldo' and switch ',' to '.'\n",
    "    .assign(Saldo=lambda d: d[\"Saldo\"].str.replace(\".\", \"\").str.replace(\",\", \".\").astype(float))\n",
    "    .assign(Beløb=lambda d: d[\"Beløb\"].str.replace(\".\", \"\").str.replace(\",\", \".\").astype(float))\n",
    "    .assign(MontYear=lambda d: d[\"Dato\"].dt.strftime(\"%m-%Y\"))\n",
    "    \n",
    ")\n"
   ]
  },
  {
   "cell_type": "code",
   "execution_count": null,
   "metadata": {},
   "outputs": [],
   "source": [
    "(\n",
    "    dataf\n",
    "     .groupby(\"Dato\")\n",
    "    .agg(\n",
    "        {\n",
    "            # \"Dato\": \"first\",\n",
    "            \"Saldo\": \"last\",\n",
    "        }\n",
    "    )\n",
    "    .reset_index()\n",
    "\n",
    "\n",
    "    .plot(\n",
    "        x=\"Dato\", y=\"Saldo\", kind=\"line\", title=\"Saldo over tid\", labels={\"Saldo\": \"Saldo (DKK)\"}\n",
    "    )\n",
    ")"
   ]
  },
  {
   "cell_type": "code",
   "execution_count": null,
   "metadata": {},
   "outputs": [],
   "source": [
    "dataf\n"
   ]
  },
  {
   "cell_type": "code",
   "execution_count": null,
   "metadata": {},
   "outputs": [],
   "source": [
    "cat_expenses = dataf.groupby([\"Kategori\", \"Underkategori\"]).agg(\n",
    "    {\n",
    "        \"Beløb\": \"sum\",\n",
    "    }\n",
    ").reset_index()[lambda d: d[\"Beløb\"] < 0].assign(Beløb=lambda d: d[\"Beløb\"].abs())"
   ]
  },
  {
   "cell_type": "code",
   "execution_count": null,
   "metadata": {},
   "outputs": [],
   "source": [
    "\n",
    "import plotly.express as px\n",
    "fig = px.treemap(\n",
    "    (\n",
    "        dataf\n",
    "        .groupby([\"Kategori\", \"Underkategori\"]).agg({\"Beløb\": \"sum\"})\n",
    "        .reset_index()\n",
    "        [lambda d: d[\"Beløb\"] < 0]\n",
    "        .assign(Beløb=lambda d: d[\"Beløb\"].abs())\n",
    "    ),\n",
    "    path=[px.Constant(\"all expenses\"), \"Kategori\", \"Underkategori\"],\n",
    "    values= \"Beløb\",\n",
    "    width=2000, height=600,\n",
    "    # text size\n",
    "\n",
    ")\n",
    "fig.data[0].textinfo = 'label+percent parent+percent root'\n",
    "fig.update_traces(root_color=\"white\")\n",
    "fig.update_traces(marker=dict(cornerradius=5))\n",
    "fig.update_layout(\n",
    "    margin = dict(t=50, l=25, r=25, b=25),\n",
    "    font=dict(\n",
    "        size=20,\n",
    "    ),\n",
    "\n",
    "    # textinfo size, show only if > 1%\n",
    "    uniformtext=dict(minsize=10, mode=False),\n",
    ")\n",
    "fig.show()\n"
   ]
  },
  {
   "cell_type": "code",
   "execution_count": null,
   "metadata": {},
   "outputs": [],
   "source": []
  }
 ],
 "metadata": {
  "kernelspec": {
   "display_name": ".venv",
   "language": "python",
   "name": "python3"
  },
  "language_info": {
   "codemirror_mode": {
    "name": "ipython",
    "version": 3
   },
   "file_extension": ".py",
   "mimetype": "text/x-python",
   "name": "python",
   "nbconvert_exporter": "python",
   "pygments_lexer": "ipython3",
   "version": "3.10.0"
  },
  "orig_nbformat": 4
 },
 "nbformat": 4,
 "nbformat_minor": 2
}
