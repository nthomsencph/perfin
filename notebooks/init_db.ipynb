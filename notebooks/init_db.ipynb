{
 "cells": [
  {
   "cell_type": "code",
   "execution_count": 1,
   "metadata": {},
   "outputs": [],
   "source": [
    "import pandas as pd\n",
    "from sqlalchemy import create_engine, Column, Integer, String, Date, Float, ForeignKey\n",
    "from sqlalchemy.orm import sessionmaker,declarative_base\n",
    "\n",
    "from perfin.config import DB_URL, USERS"
   ]
  },
  {
   "cell_type": "markdown",
   "metadata": {},
   "source": [
    "### define engine and metadata"
   ]
  },
  {
   "cell_type": "code",
   "execution_count": 2,
   "metadata": {},
   "outputs": [],
   "source": [
    "engine = create_engine(DB_URL, echo=True)\n",
    "\n",
    "# Create a base class for the model\n",
    "Base = declarative_base()\n",
    "\n",
    "# Create a Session class\n",
    "Session = sessionmaker(bind=engine)"
   ]
  },
  {
   "cell_type": "markdown",
   "metadata": {},
   "source": [
    "### Define table schema"
   ]
  },
  {
   "cell_type": "code",
   "execution_count": 3,
   "metadata": {},
   "outputs": [],
   "source": [
    "try:\n",
    "    class User(Base):\n",
    "        __tablename__ = 'users'\n",
    "        \n",
    "        user_name = Column(String, primary_key=True)\n",
    "        email = Column(String)\n",
    "        name = Column(String)\n",
    "        password = Column(String)\n",
    "\n",
    "        def as_dict(self):\n",
    "            return {c.name: getattr(self, c.name) for c in self.__table__.columns}\n",
    "\n",
    "\n",
    "except Exception as e:\n",
    "    print(f\"Error for Users table: {e}\")\n",
    "\n",
    "try:\n",
    "    class Transaction(Base):\n",
    "        __tablename__ = 'transactions'\n",
    "        \n",
    "        id = Column(Integer, primary_key=True)\n",
    "        date = Column(Date)\n",
    "        day_index = Column(Integer)\n",
    "        category = Column(String)\n",
    "        subcategory = Column(String)\n",
    "        text = Column(String)\n",
    "        amount = Column(Float)\n",
    "        balance = Column(Float)\n",
    "        user_key = Column(String, ForeignKey('users.user_name'))\n",
    "\n",
    "        def as_dict(self):\n",
    "            return {c.name: getattr(self, c.name) for c in self.__table__.columns}\n",
    "\n",
    "\n",
    "\n",
    "except Exception as e:\n",
    "    print(f\"Error for Transactions table: {e}\")"
   ]
  },
  {
   "cell_type": "markdown",
   "metadata": {},
   "source": [
    "### Create tables"
   ]
  },
  {
   "cell_type": "code",
   "execution_count": 4,
   "metadata": {},
   "outputs": [
    {
     "name": "stdout",
     "output_type": "stream",
     "text": [
      "2023-10-02 23:55:05,203 INFO sqlalchemy.engine.Engine BEGIN (implicit)\n",
      "2023-10-02 23:55:05,203 INFO sqlalchemy.engine.Engine PRAGMA main.table_info(\"users\")\n",
      "2023-10-02 23:55:05,204 INFO sqlalchemy.engine.Engine [raw sql] ()\n",
      "2023-10-02 23:55:05,206 INFO sqlalchemy.engine.Engine PRAGMA temp.table_info(\"users\")\n",
      "2023-10-02 23:55:05,206 INFO sqlalchemy.engine.Engine [raw sql] ()\n",
      "2023-10-02 23:55:05,207 INFO sqlalchemy.engine.Engine PRAGMA main.table_info(\"transactions\")\n",
      "2023-10-02 23:55:05,208 INFO sqlalchemy.engine.Engine [raw sql] ()\n",
      "2023-10-02 23:55:05,208 INFO sqlalchemy.engine.Engine PRAGMA temp.table_info(\"transactions\")\n",
      "2023-10-02 23:55:05,209 INFO sqlalchemy.engine.Engine [raw sql] ()\n",
      "2023-10-02 23:55:05,210 INFO sqlalchemy.engine.Engine \n",
      "CREATE TABLE users (\n",
      "\tuser_name VARCHAR NOT NULL, \n",
      "\temail VARCHAR, \n",
      "\tname VARCHAR, \n",
      "\tpassword VARCHAR, \n",
      "\tPRIMARY KEY (user_name)\n",
      ")\n",
      "\n",
      "\n",
      "2023-10-02 23:55:05,211 INFO sqlalchemy.engine.Engine [no key 0.00048s] ()\n",
      "2023-10-02 23:55:05,213 INFO sqlalchemy.engine.Engine \n",
      "CREATE TABLE transactions (\n",
      "\tid INTEGER NOT NULL, \n",
      "\tdate DATE, \n",
      "\tday_index INTEGER, \n",
      "\tcategory VARCHAR, \n",
      "\tsubcategory VARCHAR, \n",
      "\ttext VARCHAR, \n",
      "\tamount FLOAT, \n",
      "\tbalance FLOAT, \n",
      "\tuser_key VARCHAR, \n",
      "\tPRIMARY KEY (id), \n",
      "\tFOREIGN KEY(user_key) REFERENCES users (user_name)\n",
      ")\n",
      "\n",
      "\n",
      "2023-10-02 23:55:05,213 INFO sqlalchemy.engine.Engine [no key 0.00057s] ()\n",
      "2023-10-02 23:55:05,215 INFO sqlalchemy.engine.Engine COMMIT\n"
     ]
    }
   ],
   "source": [
    "# Create the table\n",
    "Base.metadata.create_all(engine)"
   ]
  },
  {
   "cell_type": "markdown",
   "metadata": {},
   "source": [
    "### Create users"
   ]
  },
  {
   "cell_type": "code",
   "execution_count": 5,
   "metadata": {},
   "outputs": [
    {
     "name": "stdout",
     "output_type": "stream",
     "text": [
      "2023-10-02 23:55:06,985 INFO sqlalchemy.engine.Engine BEGIN (implicit)\n",
      "2023-10-02 23:55:06,987 INFO sqlalchemy.engine.Engine INSERT INTO users (user_name, email, name, password) VALUES (?, ?, ?, ?)\n",
      "2023-10-02 23:55:06,988 INFO sqlalchemy.engine.Engine [generated in 0.00108s] [('admin', 'nicolaibthomsen@gmail.com', 'Nicolai', '$2b$12$XraL69WIGv9EQogv05T61Opoj.h7rSHV3bumDAlY7MpPM4ZdBCKJu'), ('cbrandborg', 'cbrandborg@hotmail.dk', 'Christian', '$2b$12$5ZK4c96UuM3fm37F38LUNeWxuDtyNBpbVJ4FBCfWZFQRim1khEaNa')]\n",
      "2023-10-02 23:55:06,990 INFO sqlalchemy.engine.Engine COMMIT\n"
     ]
    }
   ],
   "source": [
    "with Session() as session:\n",
    "    users = [User(**user) for user in USERS]\n",
    "    session.add_all(users)\n",
    "    session.commit()"
   ]
  },
  {
   "cell_type": "code",
   "execution_count": null,
   "metadata": {},
   "outputs": [],
   "source": [
    "with Session() as session:\n",
    "    users = session.query(User).all()\n"
   ]
  },
  {
   "cell_type": "code",
   "execution_count": 19,
   "metadata": {},
   "outputs": [
    {
     "ename": "TypeError",
     "evalue": "Transaction.as_dict() missing 1 required positional argument: 'self'",
     "output_type": "error",
     "traceback": [
      "\u001b[0;31m---------------------------------------------------------------------------\u001b[0m",
      "\u001b[0;31mTypeError\u001b[0m                                 Traceback (most recent call last)",
      "\u001b[1;32m/Users/nicolai/Desktop/repos/perfin/notebooks/init_db.ipynb Cell 11\u001b[0m line \u001b[0;36m1\n\u001b[0;32m----> <a href='vscode-notebook-cell:/Users/nicolai/Desktop/repos/perfin/notebooks/init_db.ipynb#Y101sZmlsZQ%3D%3D?line=0'>1</a>\u001b[0m Transaction\u001b[39m.\u001b[39;49mas_dict()\n",
      "\u001b[0;31mTypeError\u001b[0m: Transaction.as_dict() missing 1 required positional argument: 'self'"
     ]
    }
   ],
   "source": [
    "Transaction"
   ]
  },
  {
   "cell_type": "markdown",
   "metadata": {},
   "source": [
    "### Load data and build pipeline"
   ]
  },
  {
   "cell_type": "code",
   "execution_count": null,
   "metadata": {},
   "outputs": [],
   "source": [
    "def read_transactions_from_csv(file_path: str) -> pd.DataFrame:\n",
    "    return pd.read_csv(\n",
    "        file_path, \n",
    "        sep=\";\", \n",
    "        parse_dates=[\"Dato\"],\n",
    "        date_format=\"%d.%m.%Y\",\n",
    "        encoding=\"ISO-8859-1\",\n",
    "        thousands=\".\",\n",
    "        decimal=\",\",\n",
    "        dtype={\n",
    "            \"Tekst\": \"string\",\n",
    "            \"Kategori\": \"string\",\n",
    "            \"Underkategori\": \"string\",\n",
    "            \"Beløb\": \"float64\",\n",
    "            \"Saldo\": \"float64\",\n",
    "        },\n",
    "        usecols=[\n",
    "            \"Dato\",\n",
    "            \"Tekst\",\n",
    "            \"Kategori\",\n",
    "            \"Underkategori\",\n",
    "            \"Beløb\",\n",
    "            \"Saldo\"\n",
    "        ],\n",
    "    )"
   ]
  },
  {
   "cell_type": "code",
   "execution_count": null,
   "metadata": {},
   "outputs": [],
   "source": [
    "def process_for_db(data, user) -> pd.DataFrame:\n",
    "    \"\"\" Process the data for the database \"\"\"\n",
    "\n",
    "    return (\n",
    "        data\n",
    "        .reset_index(drop=False) # For primary key\n",
    "        .rename(columns={\n",
    "                \"index\": \"id\",\n",
    "                \"Dato\": \"date\",\n",
    "                \"Tekst\": \"text\",\n",
    "                \"Kategori\": \"category\",\n",
    "                \"Underkategori\": \"subcategory\",\n",
    "                \"Beløb\": \"amount\",\n",
    "                \"Saldo\": \"balance\",\n",
    "            }\n",
    "        )\n",
    "        .assign(day_index=lambda d: d.groupby(\"date\").cumcount())\n",
    "        .astype(\n",
    "            {\"category\": \"category\",\n",
    "             \"text\": \"string\",\n",
    "             \"subcategory\": \"category\",\n",
    "             \"date\": \"datetime64[ns]\",\n",
    "            }\n",
    "        )\n",
    "        .assign(\n",
    "            user_key=user,\n",
    "            text=lambda d: d.text.str.strip(),\n",
    "            category=lambda d: d.category.str.strip(),\n",
    "            subcategory=lambda d: d.subcategory.str.strip()\n",
    "        )\n",
    "    )"
   ]
  },
  {
   "cell_type": "code",
   "execution_count": null,
   "metadata": {},
   "outputs": [],
   "source": [
    "data = (\n",
    "    read_transactions_from_csv(\"db/transactions23.csv\")\n",
    "    .pipe(process_for_db, user=USERS[0][\"user_name\"])\n",
    ")"
   ]
  },
  {
   "cell_type": "markdown",
   "metadata": {},
   "source": [
    "### Add transactions to DB"
   ]
  },
  {
   "cell_type": "code",
   "execution_count": null,
   "metadata": {},
   "outputs": [],
   "source": [
    "with Session() as session:\n",
    "    transactions = [Transaction(**row) for row in data.to_dict(orient=\"records\")]\n",
    "    session.add_all(transactions)\n",
    "    session.commit()"
   ]
  },
  {
   "cell_type": "code",
   "execution_count": 12,
   "metadata": {},
   "outputs": [
    {
     "name": "stdout",
     "output_type": "stream",
     "text": [
      "2023-10-03 00:07:46,022 INFO sqlalchemy.engine.Engine BEGIN (implicit)\n",
      "2023-10-03 00:07:46,023 INFO sqlalchemy.engine.Engine PRAGMA main.table_info(\"transactions\")\n",
      "2023-10-03 00:07:46,024 INFO sqlalchemy.engine.Engine [raw sql] ()\n",
      "2023-10-03 00:07:46,025 INFO sqlalchemy.engine.Engine SELECT name FROM sqlite_master WHERE type='table' AND name NOT LIKE 'sqlite~_%' ESCAPE '~' ORDER BY name\n",
      "2023-10-03 00:07:46,026 INFO sqlalchemy.engine.Engine [raw sql] ()\n",
      "2023-10-03 00:07:46,026 INFO sqlalchemy.engine.Engine SELECT name FROM sqlite_master WHERE type='view' AND name NOT LIKE 'sqlite~_%' ESCAPE '~' ORDER BY name\n",
      "2023-10-03 00:07:46,027 INFO sqlalchemy.engine.Engine [raw sql] ()\n",
      "2023-10-03 00:07:46,027 INFO sqlalchemy.engine.Engine PRAGMA main.table_xinfo(\"transactions\")\n",
      "2023-10-03 00:07:46,028 INFO sqlalchemy.engine.Engine [raw sql] ()\n",
      "2023-10-03 00:07:46,028 INFO sqlalchemy.engine.Engine SELECT sql FROM  (SELECT * FROM sqlite_master UNION ALL   SELECT * FROM sqlite_temp_master) WHERE name = ? AND type in ('table', 'view')\n",
      "2023-10-03 00:07:46,029 INFO sqlalchemy.engine.Engine [raw sql] ('transactions',)\n",
      "2023-10-03 00:07:46,029 INFO sqlalchemy.engine.Engine PRAGMA main.foreign_key_list(\"transactions\")\n",
      "2023-10-03 00:07:46,030 INFO sqlalchemy.engine.Engine [raw sql] ()\n",
      "2023-10-03 00:07:46,030 INFO sqlalchemy.engine.Engine SELECT sql FROM  (SELECT * FROM sqlite_master UNION ALL   SELECT * FROM sqlite_temp_master) WHERE name = ? AND type in ('table', 'view')\n",
      "2023-10-03 00:07:46,030 INFO sqlalchemy.engine.Engine [raw sql] ('transactions',)\n",
      "2023-10-03 00:07:46,032 INFO sqlalchemy.engine.Engine PRAGMA main.index_list(\"transactions\")\n",
      "2023-10-03 00:07:46,033 INFO sqlalchemy.engine.Engine [raw sql] ()\n",
      "2023-10-03 00:07:46,033 INFO sqlalchemy.engine.Engine PRAGMA temp.index_list(\"transactions\")\n",
      "2023-10-03 00:07:46,034 INFO sqlalchemy.engine.Engine [raw sql] ()\n",
      "2023-10-03 00:07:46,034 INFO sqlalchemy.engine.Engine PRAGMA main.table_info(\"transactions\")\n",
      "2023-10-03 00:07:46,035 INFO sqlalchemy.engine.Engine [raw sql] ()\n",
      "2023-10-03 00:07:46,035 INFO sqlalchemy.engine.Engine PRAGMA main.index_list(\"transactions\")\n",
      "2023-10-03 00:07:46,036 INFO sqlalchemy.engine.Engine [raw sql] ()\n",
      "2023-10-03 00:07:46,036 INFO sqlalchemy.engine.Engine PRAGMA temp.index_list(\"transactions\")\n",
      "2023-10-03 00:07:46,037 INFO sqlalchemy.engine.Engine [raw sql] ()\n",
      "2023-10-03 00:07:46,038 INFO sqlalchemy.engine.Engine PRAGMA main.table_info(\"transactions\")\n",
      "2023-10-03 00:07:46,038 INFO sqlalchemy.engine.Engine [raw sql] ()\n",
      "2023-10-03 00:07:46,039 INFO sqlalchemy.engine.Engine SELECT sql FROM  (SELECT * FROM sqlite_master UNION ALL   SELECT * FROM sqlite_temp_master) WHERE name = ? AND type in ('table', 'view')\n",
      "2023-10-03 00:07:46,039 INFO sqlalchemy.engine.Engine [raw sql] ('transactions',)\n",
      "2023-10-03 00:07:46,041 INFO sqlalchemy.engine.Engine PRAGMA main.table_xinfo(\"users\")\n",
      "2023-10-03 00:07:46,042 INFO sqlalchemy.engine.Engine [raw sql] ()\n",
      "2023-10-03 00:07:46,042 INFO sqlalchemy.engine.Engine SELECT sql FROM  (SELECT * FROM sqlite_master UNION ALL   SELECT * FROM sqlite_temp_master) WHERE name = ? AND type in ('table', 'view')\n",
      "2023-10-03 00:07:46,043 INFO sqlalchemy.engine.Engine [raw sql] ('users',)\n",
      "2023-10-03 00:07:46,044 INFO sqlalchemy.engine.Engine PRAGMA main.foreign_key_list(\"users\")\n",
      "2023-10-03 00:07:46,045 INFO sqlalchemy.engine.Engine [raw sql] ()\n",
      "2023-10-03 00:07:46,045 INFO sqlalchemy.engine.Engine PRAGMA temp.foreign_key_list(\"users\")\n",
      "2023-10-03 00:07:46,046 INFO sqlalchemy.engine.Engine [raw sql] ()\n",
      "2023-10-03 00:07:46,046 INFO sqlalchemy.engine.Engine SELECT sql FROM  (SELECT * FROM sqlite_master UNION ALL   SELECT * FROM sqlite_temp_master) WHERE name = ? AND type in ('table', 'view')\n",
      "2023-10-03 00:07:46,046 INFO sqlalchemy.engine.Engine [raw sql] ('users',)\n",
      "2023-10-03 00:07:46,047 INFO sqlalchemy.engine.Engine PRAGMA main.index_list(\"users\")\n",
      "2023-10-03 00:07:46,047 INFO sqlalchemy.engine.Engine [raw sql] ()\n",
      "2023-10-03 00:07:46,048 INFO sqlalchemy.engine.Engine PRAGMA main.table_info(\"users\")\n",
      "2023-10-03 00:07:46,048 INFO sqlalchemy.engine.Engine [raw sql] ()\n",
      "2023-10-03 00:07:46,049 INFO sqlalchemy.engine.Engine PRAGMA main.index_list(\"users\")\n",
      "2023-10-03 00:07:46,049 INFO sqlalchemy.engine.Engine [raw sql] ()\n",
      "2023-10-03 00:07:46,049 INFO sqlalchemy.engine.Engine PRAGMA main.index_info(\"sqlite_autoindex_users_1\")\n",
      "2023-10-03 00:07:46,050 INFO sqlalchemy.engine.Engine [raw sql] ()\n",
      "2023-10-03 00:07:46,050 INFO sqlalchemy.engine.Engine SELECT sql FROM  (SELECT * FROM sqlite_master UNION ALL   SELECT * FROM sqlite_temp_master) WHERE name = ? AND type in ('table', 'view')\n",
      "2023-10-03 00:07:46,050 INFO sqlalchemy.engine.Engine [raw sql] ('users',)\n",
      "2023-10-03 00:07:46,052 INFO sqlalchemy.engine.Engine SELECT transactions.id, transactions.date, transactions.day_index, transactions.category, transactions.subcategory, transactions.text, transactions.amount, transactions.balance, transactions.user_key \n",
      "FROM transactions\n",
      "2023-10-03 00:07:46,053 INFO sqlalchemy.engine.Engine [generated in 0.00102s] ()\n",
      "2023-10-03 00:07:46,057 INFO sqlalchemy.engine.Engine COMMIT\n"
     ]
    }
   ],
   "source": [
    "with Session() as session:\n",
    "    data = pd.read_sql_table(\"transactions\", session.bind)"
   ]
  },
  {
   "cell_type": "code",
   "execution_count": 11,
   "metadata": {},
   "outputs": [
    {
     "ename": "NameError",
     "evalue": "name 'data' is not defined",
     "output_type": "error",
     "traceback": [
      "\u001b[0;31m---------------------------------------------------------------------------\u001b[0m",
      "\u001b[0;31mNameError\u001b[0m                                 Traceback (most recent call last)",
      "\u001b[1;32m/Users/nicolai/Desktop/repos/perfin/notebooks/init_db.ipynb Cell 19\u001b[0m line \u001b[0;36m1\n\u001b[0;32m----> <a href='vscode-notebook-cell:/Users/nicolai/Desktop/repos/perfin/notebooks/init_db.ipynb#X66sZmlsZQ%3D%3D?line=0'>1</a>\u001b[0m data\n",
      "\u001b[0;31mNameError\u001b[0m: name 'data' is not defined"
     ]
    }
   ],
   "source": [
    "data"
   ]
  },
  {
   "cell_type": "code",
   "execution_count": 10,
   "metadata": {},
   "outputs": [
    {
     "data": {
      "text/plain": [
       "{'usernames': {'admin': {'email': 'nicolaibthomsen@gmail.com',\n",
       "   'name': 'Nicolai',\n",
       "   'password': '$2b$12$XraL69WIGv9EQogv05T61Opoj.h7rSHV3bumDAlY7MpPM4ZdBCKJu'},\n",
       "  'cbrandborg': {'email': 'cbrandborg@hotmail.dk',\n",
       "   'name': 'Christian',\n",
       "   'password': '$2b$12$5ZK4c96UuM3fm37F38LUNeWxuDtyNBpbVJ4FBCfWZFQRim1khEaNa'}}}"
      ]
     },
     "execution_count": 10,
     "metadata": {},
     "output_type": "execute_result"
    }
   ],
   "source": [
    "{\n",
    "    'usernames': { \n",
    "        \n",
    "        'admin': {\n",
    "            'email': 'nicolaibthomsen@gmail.com',\n",
    "            'name': 'Nicolai',\n",
    "            'password': '$2b$12$XraL69WIGv9EQogv05T61Opoj.h7rSHV3bumDAlY7MpPM4ZdBCKJu'\n",
    "        },\n",
    "    \n",
    "        'cbrandborg': {\n",
    "            'email': 'cbrandborg@hotmail.dk',\n",
    "            'name': 'Christian',\n",
    "            'password': '$2b$12$5ZK4c96UuM3fm37F38LUNeWxuDtyNBpbVJ4FBCfWZFQRim1khEaNa'\n",
    "        }\n",
    "    }\n",
    "}"
   ]
  },
  {
   "cell_type": "code",
   "execution_count": null,
   "metadata": {},
   "outputs": [],
   "source": []
  }
 ],
 "metadata": {
  "kernelspec": {
   "display_name": ".venv",
   "language": "python",
   "name": "python3"
  },
  "language_info": {
   "codemirror_mode": {
    "name": "ipython",
    "version": 3
   },
   "file_extension": ".py",
   "mimetype": "text/x-python",
   "name": "python",
   "nbconvert_exporter": "python",
   "pygments_lexer": "ipython3",
   "version": "3.10.0"
  },
  "orig_nbformat": 4
 },
 "nbformat": 4,
 "nbformat_minor": 2
}
